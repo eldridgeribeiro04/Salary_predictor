{
 "cells": [
  {
   "cell_type": "code",
   "execution_count": 30,
   "id": "bc351793",
   "metadata": {},
   "outputs": [],
   "source": [
    "import numpy as np\n",
    "import pandas as pd\n",
    "\n",
    "from sklearn.preprocessing import OrdinalEncoder, StandardScaler, OneHotEncoder, MinMaxScaler\n",
    "\n",
    "from sklearn.pipeline import Pipeline\n",
    "\n",
    "from sklearn.linear_model import LinearRegression\n",
    "\n",
    "from sklearn.metrics import mean_absolute_error, mean_squared_error, r2_score, accuracy_score\n",
    "\n",
    "import matplotlib.pyplot as plt\n",
    "import seaborn as sns\n",
    "%matplotlib inline\n",
    "\n",
    "from sklearn.model_selection import train_test_split"
   ]
  },
  {
   "cell_type": "code",
   "execution_count": 3,
   "id": "56501dcc",
   "metadata": {},
   "outputs": [],
   "source": [
    "salary_ds = pd.read_csv('Salary Dataset.csv', index_col=0)"
   ]
  },
  {
   "cell_type": "code",
   "execution_count": 4,
   "id": "cc30fabe",
   "metadata": {},
   "outputs": [
    {
     "data": {
      "text/html": [
       "<div>\n",
       "<style scoped>\n",
       "    .dataframe tbody tr th:only-of-type {\n",
       "        vertical-align: middle;\n",
       "    }\n",
       "\n",
       "    .dataframe tbody tr th {\n",
       "        vertical-align: top;\n",
       "    }\n",
       "\n",
       "    .dataframe thead th {\n",
       "        text-align: right;\n",
       "    }\n",
       "</style>\n",
       "<table border=\"1\" class=\"dataframe\">\n",
       "  <thead>\n",
       "    <tr style=\"text-align: right;\">\n",
       "      <th></th>\n",
       "      <th>Job Title</th>\n",
       "      <th>Salaries Reported</th>\n",
       "      <th>Location</th>\n",
       "      <th>Salary</th>\n",
       "    </tr>\n",
       "    <tr>\n",
       "      <th>Company Name</th>\n",
       "      <th></th>\n",
       "      <th></th>\n",
       "      <th></th>\n",
       "      <th></th>\n",
       "    </tr>\n",
       "  </thead>\n",
       "  <tbody>\n",
       "    <tr>\n",
       "      <th>Mu Sigma</th>\n",
       "      <td>Data Scientist</td>\n",
       "      <td>105.0</td>\n",
       "      <td>Bangalore</td>\n",
       "      <td>₹6,48,573/yr</td>\n",
       "    </tr>\n",
       "    <tr>\n",
       "      <th>IBM</th>\n",
       "      <td>Data Scientist</td>\n",
       "      <td>95.0</td>\n",
       "      <td>Bangalore</td>\n",
       "      <td>₹11,91,950/yr</td>\n",
       "    </tr>\n",
       "    <tr>\n",
       "      <th>Tata Consultancy Services</th>\n",
       "      <td>Data Scientist</td>\n",
       "      <td>66.0</td>\n",
       "      <td>Bangalore</td>\n",
       "      <td>₹8,36,874/yr</td>\n",
       "    </tr>\n",
       "    <tr>\n",
       "      <th>Impact Analytics</th>\n",
       "      <td>Data Scientist</td>\n",
       "      <td>40.0</td>\n",
       "      <td>Bangalore</td>\n",
       "      <td>₹6,69,578/yr</td>\n",
       "    </tr>\n",
       "    <tr>\n",
       "      <th>Accenture</th>\n",
       "      <td>Data Scientist</td>\n",
       "      <td>32.0</td>\n",
       "      <td>Bangalore</td>\n",
       "      <td>₹9,44,110/yr</td>\n",
       "    </tr>\n",
       "  </tbody>\n",
       "</table>\n",
       "</div>"
      ],
      "text/plain": [
       "                                Job Title  Salaries Reported   Location  \\\n",
       "Company Name                                                              \n",
       "Mu Sigma                   Data Scientist              105.0  Bangalore   \n",
       "IBM                        Data Scientist               95.0  Bangalore   \n",
       "Tata Consultancy Services  Data Scientist               66.0  Bangalore   \n",
       "Impact Analytics           Data Scientist               40.0  Bangalore   \n",
       "Accenture                  Data Scientist               32.0  Bangalore   \n",
       "\n",
       "                                  Salary  \n",
       "Company Name                              \n",
       "Mu Sigma                    ₹6,48,573/yr  \n",
       "IBM                        ₹11,91,950/yr  \n",
       "Tata Consultancy Services   ₹8,36,874/yr  \n",
       "Impact Analytics            ₹6,69,578/yr  \n",
       "Accenture                   ₹9,44,110/yr  "
      ]
     },
     "execution_count": 4,
     "metadata": {},
     "output_type": "execute_result"
    }
   ],
   "source": [
    "salary_ds.head()"
   ]
  },
  {
   "cell_type": "code",
   "execution_count": 5,
   "id": "9bac87e1",
   "metadata": {},
   "outputs": [],
   "source": [
    "# Since salary has text in it, Im going to get rid of that\n",
    "salary_ds['Salary'] = salary_ds['Salary'].apply(lambda x:x.split(' ')[0])"
   ]
  },
  {
   "cell_type": "code",
   "execution_count": 6,
   "id": "275c9fa2",
   "metadata": {},
   "outputs": [],
   "source": [
    "for ls in ['₹', '/yr', ',']:\n",
    "    for i in salary_ds['Salary']:\n",
    "        if ls in i:\n",
    "            salary_ds['Salary'] = i.replace(ls, '')"
   ]
  },
  {
   "cell_type": "code",
   "execution_count": 7,
   "id": "229b0994",
   "metadata": {},
   "outputs": [],
   "source": [
    "for i in salary_ds['Salary']:\n",
    "    salary_ds['Salary'] = int(i)"
   ]
  },
  {
   "cell_type": "code",
   "execution_count": 8,
   "id": "0462c4b9",
   "metadata": {},
   "outputs": [
    {
     "data": {
      "text/plain": [
       "dtype('int64')"
      ]
     },
     "execution_count": 8,
     "metadata": {},
     "output_type": "execute_result"
    }
   ],
   "source": [
    "salary_ds['Salary'].dtype"
   ]
  },
  {
   "cell_type": "code",
   "execution_count": 9,
   "id": "bbbe6611",
   "metadata": {},
   "outputs": [
    {
     "data": {
      "text/html": [
       "<div>\n",
       "<style scoped>\n",
       "    .dataframe tbody tr th:only-of-type {\n",
       "        vertical-align: middle;\n",
       "    }\n",
       "\n",
       "    .dataframe tbody tr th {\n",
       "        vertical-align: top;\n",
       "    }\n",
       "\n",
       "    .dataframe thead th {\n",
       "        text-align: right;\n",
       "    }\n",
       "</style>\n",
       "<table border=\"1\" class=\"dataframe\">\n",
       "  <thead>\n",
       "    <tr style=\"text-align: right;\">\n",
       "      <th></th>\n",
       "      <th>Job Title</th>\n",
       "      <th>Salaries Reported</th>\n",
       "      <th>Location</th>\n",
       "      <th>Salary</th>\n",
       "    </tr>\n",
       "    <tr>\n",
       "      <th>Company Name</th>\n",
       "      <th></th>\n",
       "      <th></th>\n",
       "      <th></th>\n",
       "      <th></th>\n",
       "    </tr>\n",
       "  </thead>\n",
       "  <tbody>\n",
       "    <tr>\n",
       "      <th>Mu Sigma</th>\n",
       "      <td>Data Scientist</td>\n",
       "      <td>105.0</td>\n",
       "      <td>Bangalore</td>\n",
       "      <td>939843</td>\n",
       "    </tr>\n",
       "    <tr>\n",
       "      <th>IBM</th>\n",
       "      <td>Data Scientist</td>\n",
       "      <td>95.0</td>\n",
       "      <td>Bangalore</td>\n",
       "      <td>939843</td>\n",
       "    </tr>\n",
       "    <tr>\n",
       "      <th>Tata Consultancy Services</th>\n",
       "      <td>Data Scientist</td>\n",
       "      <td>66.0</td>\n",
       "      <td>Bangalore</td>\n",
       "      <td>939843</td>\n",
       "    </tr>\n",
       "    <tr>\n",
       "      <th>Impact Analytics</th>\n",
       "      <td>Data Scientist</td>\n",
       "      <td>40.0</td>\n",
       "      <td>Bangalore</td>\n",
       "      <td>939843</td>\n",
       "    </tr>\n",
       "    <tr>\n",
       "      <th>Accenture</th>\n",
       "      <td>Data Scientist</td>\n",
       "      <td>32.0</td>\n",
       "      <td>Bangalore</td>\n",
       "      <td>939843</td>\n",
       "    </tr>\n",
       "  </tbody>\n",
       "</table>\n",
       "</div>"
      ],
      "text/plain": [
       "                                Job Title  Salaries Reported   Location  \\\n",
       "Company Name                                                              \n",
       "Mu Sigma                   Data Scientist              105.0  Bangalore   \n",
       "IBM                        Data Scientist               95.0  Bangalore   \n",
       "Tata Consultancy Services  Data Scientist               66.0  Bangalore   \n",
       "Impact Analytics           Data Scientist               40.0  Bangalore   \n",
       "Accenture                  Data Scientist               32.0  Bangalore   \n",
       "\n",
       "                           Salary  \n",
       "Company Name                       \n",
       "Mu Sigma                   939843  \n",
       "IBM                        939843  \n",
       "Tata Consultancy Services  939843  \n",
       "Impact Analytics           939843  \n",
       "Accenture                  939843  "
      ]
     },
     "execution_count": 9,
     "metadata": {},
     "output_type": "execute_result"
    }
   ],
   "source": [
    "salary_ds.head()"
   ]
  },
  {
   "cell_type": "code",
   "execution_count": 10,
   "id": "30f78975",
   "metadata": {},
   "outputs": [],
   "source": [
    "cat_df = salary_ds.select_dtypes(include=object)\n",
    "num_ds = salary_ds.select_dtypes(include=np.number)\n"
   ]
  },
  {
   "cell_type": "code",
   "execution_count": 11,
   "id": "d6475a67",
   "metadata": {},
   "outputs": [],
   "source": [
    "ordinal = OrdinalEncoder()"
   ]
  },
  {
   "cell_type": "code",
   "execution_count": 12,
   "id": "f8875dc8",
   "metadata": {},
   "outputs": [
    {
     "data": {
      "text/plain": [
       "OrdinalEncoder()"
      ]
     },
     "execution_count": 12,
     "metadata": {},
     "output_type": "execute_result"
    }
   ],
   "source": [
    "cat_cols = cat_df.columns.tolist()\n",
    "ordinal.fit(cat_df[cat_cols])"
   ]
  },
  {
   "cell_type": "code",
   "execution_count": 13,
   "id": "2200f48c",
   "metadata": {},
   "outputs": [],
   "source": [
    "cat_o = ordinal.transform(cat_df[cat_cols])\n",
    "cat_o = pd.DataFrame(cat_o, columns=cat_cols)\n",
    "cat_df.reset_index(inplace=True, drop=True)\n"
   ]
  },
  {
   "cell_type": "code",
   "execution_count": 14,
   "id": "47d39104",
   "metadata": {},
   "outputs": [
    {
     "data": {
      "text/html": [
       "<div>\n",
       "<style scoped>\n",
       "    .dataframe tbody tr th:only-of-type {\n",
       "        vertical-align: middle;\n",
       "    }\n",
       "\n",
       "    .dataframe tbody tr th {\n",
       "        vertical-align: top;\n",
       "    }\n",
       "\n",
       "    .dataframe thead th {\n",
       "        text-align: right;\n",
       "    }\n",
       "</style>\n",
       "<table border=\"1\" class=\"dataframe\">\n",
       "  <thead>\n",
       "    <tr style=\"text-align: right;\">\n",
       "      <th></th>\n",
       "      <th>Salaries Reported</th>\n",
       "      <th>Salary</th>\n",
       "      <th>Job Title</th>\n",
       "      <th>Location</th>\n",
       "    </tr>\n",
       "  </thead>\n",
       "  <tbody>\n",
       "    <tr>\n",
       "      <th>0</th>\n",
       "      <td>105.0</td>\n",
       "      <td>939843</td>\n",
       "      <td>8.0</td>\n",
       "      <td>0.0</td>\n",
       "    </tr>\n",
       "    <tr>\n",
       "      <th>1</th>\n",
       "      <td>95.0</td>\n",
       "      <td>939843</td>\n",
       "      <td>8.0</td>\n",
       "      <td>0.0</td>\n",
       "    </tr>\n",
       "    <tr>\n",
       "      <th>2</th>\n",
       "      <td>66.0</td>\n",
       "      <td>939843</td>\n",
       "      <td>8.0</td>\n",
       "      <td>0.0</td>\n",
       "    </tr>\n",
       "    <tr>\n",
       "      <th>3</th>\n",
       "      <td>40.0</td>\n",
       "      <td>939843</td>\n",
       "      <td>8.0</td>\n",
       "      <td>0.0</td>\n",
       "    </tr>\n",
       "    <tr>\n",
       "      <th>4</th>\n",
       "      <td>32.0</td>\n",
       "      <td>939843</td>\n",
       "      <td>8.0</td>\n",
       "      <td>0.0</td>\n",
       "    </tr>\n",
       "    <tr>\n",
       "      <th>...</th>\n",
       "      <td>...</td>\n",
       "      <td>...</td>\n",
       "      <td>...</td>\n",
       "      <td>...</td>\n",
       "    </tr>\n",
       "    <tr>\n",
       "      <th>4339</th>\n",
       "      <td>1.0</td>\n",
       "      <td>939843</td>\n",
       "      <td>21.0</td>\n",
       "      <td>2.0</td>\n",
       "    </tr>\n",
       "    <tr>\n",
       "      <th>4340</th>\n",
       "      <td>1.0</td>\n",
       "      <td>939843</td>\n",
       "      <td>18.0</td>\n",
       "      <td>2.0</td>\n",
       "    </tr>\n",
       "    <tr>\n",
       "      <th>4341</th>\n",
       "      <td>1.0</td>\n",
       "      <td>939843</td>\n",
       "      <td>18.0</td>\n",
       "      <td>2.0</td>\n",
       "    </tr>\n",
       "    <tr>\n",
       "      <th>4342</th>\n",
       "      <td>1.0</td>\n",
       "      <td>939843</td>\n",
       "      <td>25.0</td>\n",
       "      <td>2.0</td>\n",
       "    </tr>\n",
       "    <tr>\n",
       "      <th>4343</th>\n",
       "      <td>1.0</td>\n",
       "      <td>939843</td>\n",
       "      <td>19.0</td>\n",
       "      <td>2.0</td>\n",
       "    </tr>\n",
       "  </tbody>\n",
       "</table>\n",
       "<p>4344 rows × 4 columns</p>\n",
       "</div>"
      ],
      "text/plain": [
       "      Salaries Reported  Salary  Job Title  Location\n",
       "0                 105.0  939843        8.0       0.0\n",
       "1                  95.0  939843        8.0       0.0\n",
       "2                  66.0  939843        8.0       0.0\n",
       "3                  40.0  939843        8.0       0.0\n",
       "4                  32.0  939843        8.0       0.0\n",
       "...                 ...     ...        ...       ...\n",
       "4339                1.0  939843       21.0       2.0\n",
       "4340                1.0  939843       18.0       2.0\n",
       "4341                1.0  939843       18.0       2.0\n",
       "4342                1.0  939843       25.0       2.0\n",
       "4343                1.0  939843       19.0       2.0\n",
       "\n",
       "[4344 rows x 4 columns]"
      ]
     },
     "execution_count": 14,
     "metadata": {},
     "output_type": "execute_result"
    }
   ],
   "source": [
    "num_ds.reset_index(inplace=True, drop=True)\n",
    "cat_o.reset_index(inplace=True, drop=True)\n",
    "\n",
    "salary_df = pd.concat([num_ds, cat_o], axis=1)\n",
    "salary_df"
   ]
  },
  {
   "cell_type": "code",
   "execution_count": 15,
   "id": "a38c9d61",
   "metadata": {},
   "outputs": [
    {
     "name": "stdout",
     "output_type": "stream",
     "text": [
      "<class 'pandas.core.frame.DataFrame'>\n",
      "RangeIndex: 4344 entries, 0 to 4343\n",
      "Data columns (total 4 columns):\n",
      " #   Column             Non-Null Count  Dtype  \n",
      "---  ------             --------------  -----  \n",
      " 0   Salaries Reported  4342 non-null   float64\n",
      " 1   Salary             4344 non-null   int64  \n",
      " 2   Job Title          4344 non-null   float64\n",
      " 3   Location           4344 non-null   float64\n",
      "dtypes: float64(3), int64(1)\n",
      "memory usage: 135.9 KB\n"
     ]
    }
   ],
   "source": [
    "salary_df.info()"
   ]
  },
  {
   "cell_type": "code",
   "execution_count": 16,
   "id": "01ce3ab6",
   "metadata": {},
   "outputs": [],
   "source": [
    "salary_df = salary_df.fillna(method='bfill', axis=0).fillna(0)"
   ]
  },
  {
   "cell_type": "code",
   "execution_count": 17,
   "id": "bb17b876",
   "metadata": {},
   "outputs": [
    {
     "name": "stdout",
     "output_type": "stream",
     "text": [
      "<class 'pandas.core.frame.DataFrame'>\n",
      "RangeIndex: 4344 entries, 0 to 4343\n",
      "Data columns (total 4 columns):\n",
      " #   Column             Non-Null Count  Dtype  \n",
      "---  ------             --------------  -----  \n",
      " 0   Salaries Reported  4344 non-null   float64\n",
      " 1   Salary             4344 non-null   int64  \n",
      " 2   Job Title          4344 non-null   float64\n",
      " 3   Location           4344 non-null   float64\n",
      "dtypes: float64(3), int64(1)\n",
      "memory usage: 135.9 KB\n"
     ]
    }
   ],
   "source": [
    "salary_df.info()"
   ]
  },
  {
   "cell_type": "code",
   "execution_count": 18,
   "id": "ca6137f5",
   "metadata": {},
   "outputs": [],
   "source": [
    "X = salary_df.drop(['Salary'], axis=1)\n",
    "y = salary_df['Salary']\n",
    "X_train, X_test, y_train, y_test = train_test_split(X, y, random_state=42)"
   ]
  },
  {
   "cell_type": "code",
   "execution_count": null,
   "id": "509e5964",
   "metadata": {},
   "outputs": [],
   "source": []
  },
  {
   "cell_type": "code",
   "execution_count": 20,
   "id": "a4e95def",
   "metadata": {},
   "outputs": [],
   "source": [
    "pipe = Pipeline([('StandardScaler', StandardScaler()),\n",
    "                ('LinearRegression', LinearRegression())])"
   ]
  },
  {
   "cell_type": "code",
   "execution_count": 22,
   "id": "ba4c41a3",
   "metadata": {},
   "outputs": [
    {
     "data": {
      "text/plain": [
       "2992    939843\n",
       "411     939843\n",
       "4212    939843\n",
       "1588    939843\n",
       "3460    939843\n",
       "         ...  \n",
       "3444    939843\n",
       "466     939843\n",
       "3092    939843\n",
       "3772    939843\n",
       "860     939843\n",
       "Name: Salary, Length: 3258, dtype: int64"
      ]
     },
     "execution_count": 22,
     "metadata": {},
     "output_type": "execute_result"
    }
   ],
   "source": [
    "pipe.fit(X_train, y_train)\n",
    "y_train"
   ]
  },
  {
   "cell_type": "code",
   "execution_count": 34,
   "id": "0303ff53",
   "metadata": {},
   "outputs": [],
   "source": [
    "test_preds = pipe.predict(X_test)\n",
    "train_preds = pipe.predict(X_train)"
   ]
  },
  {
   "cell_type": "code",
   "execution_count": 36,
   "id": "41e4b03f",
   "metadata": {},
   "outputs": [
    {
     "name": "stdout",
     "output_type": "stream",
     "text": [
      "Coefficient of determination for test: 1.00\n",
      "Coefficient of determination for train: 1.00\n"
     ]
    }
   ],
   "source": [
    "print(\"Coefficient of determination for test: %.2f\" % r2_score(y_test, test_preds))\n",
    "print(\"Coefficient of determination for train: %.2f\" % r2_score(y_train, train_preds))"
   ]
  },
  {
   "cell_type": "code",
   "execution_count": 37,
   "id": "fde8128c",
   "metadata": {},
   "outputs": [
    {
     "name": "stdout",
     "output_type": "stream",
     "text": [
      "Accuracy score for test: 1.00\n",
      "Accuracy score for train: 1.00\n"
     ]
    }
   ],
   "source": [
    "print(\"Accuracy score for test: %.2f\" % accuracy_score(y_test, test_preds))\n",
    "print(\"Accuracy score for train: %.2f\" % accuracy_score(y_train, train_preds))"
   ]
  },
  {
   "cell_type": "code",
   "execution_count": null,
   "id": "ccc9d5da",
   "metadata": {},
   "outputs": [],
   "source": []
  }
 ],
 "metadata": {
  "kernelspec": {
   "display_name": "master_env",
   "language": "python",
   "name": "master_env"
  },
  "language_info": {
   "codemirror_mode": {
    "name": "ipython",
    "version": 3
   },
   "file_extension": ".py",
   "mimetype": "text/x-python",
   "name": "python",
   "nbconvert_exporter": "python",
   "pygments_lexer": "ipython3",
   "version": "3.9.12"
  }
 },
 "nbformat": 4,
 "nbformat_minor": 5
}
